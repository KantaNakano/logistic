{
 "cells": [
  {
   "cell_type": "code",
   "execution_count": null,
   "metadata": {},
   "outputs": [],
   "source": [
    "# Compute the derivative of N(t)\n",
    "deriv_Nt(nt, K, r) = r * nt * (1-nt/K)\n",
    "\n",
    "#型を指定するならこうやって書ける\n",
    "# function deriv_Nt(nt::Float64, K::Float64, r::Float64)::Float64\n",
    "#     return r * nt * (1-nt/K)\n",
    "# end\n",
    "\n",
    "# Compute N(t + h)\n",
    "next_Nt(nt, K, r, h) = nt + h * deriv_Nt(nt, K, r)"
   ]
  },
  {
   "cell_type": "code",
   "execution_count": null,
   "metadata": {},
   "outputs": [],
   "source": [
    "methods(deriv_Nt)"
   ]
  },
  {
   "cell_type": "code",
   "execution_count": null,
   "metadata": {},
   "outputs": [],
   "source": [
    "# global変数として、各種パラメータを定義\n",
    "tmax = 10.0 # 終了時刻\n",
    "r = 1.0 # パラメータ1\n",
    "K = 10.0 #パラメータ2\n",
    "N0 = 1.0 # 人口の初期値\n",
    "numtimes  = 100 # 0 ≦ t < tmaxの分割数\n",
    "\n",
    "h = tmax/numtimes\n",
    "\n",
    "# r = 1とするとjuliaがrを整数として認識するする。\n",
    "#loablな変数には型を指定できないので、r::Float64ともできない。"
   ]
  },
  {
   "cell_type": "code",
   "execution_count": null,
   "metadata": {},
   "outputs": [],
   "source": [
    "deriv_Nt(N0, K, r)"
   ]
  },
  {
   "cell_type": "code",
   "execution_count": null,
   "metadata": {},
   "outputs": [],
   "source": [
    "@code_warntype deriv_Nt(N0, K, r)"
   ]
  },
  {
   "cell_type": "code",
   "execution_count": null,
   "metadata": {},
   "outputs": [],
   "source": [
    "@code_warntype next_Nt(N0, K, r, h)"
   ]
  },
  {
   "cell_type": "code",
   "execution_count": null,
   "metadata": {},
   "outputs": [],
   "source": [
    "results = Vector{Float64}(undef, numtimes+1)\n",
    "#result = zeros(Float64, numtimes+1)\n",
    "\n",
    "# 初期値\n",
    "results[1] = N0"
   ]
  },
  {
   "cell_type": "code",
   "execution_count": null,
   "metadata": {},
   "outputs": [],
   "source": [
    "results"
   ]
  },
  {
   "cell_type": "code",
   "execution_count": null,
   "metadata": {},
   "outputs": [],
   "source": [
    "# 時間発展\n",
    "for t in 1:numtimes\n",
    "    results[t+1] = next_Nt(results[t], K, r, h)\n",
    "end"
   ]
  },
  {
   "cell_type": "code",
   "execution_count": null,
   "metadata": {},
   "outputs": [],
   "source": [
    "results"
   ]
  },
  {
   "cell_type": "code",
   "execution_count": null,
   "metadata": {},
   "outputs": [],
   "source": [
    "using Plots\n",
    "\n",
    "times = LinRange(0, tmax, numtimes+1)\n",
    "#LinRangeは初期値と最大値を指定して、その間をメッシュで切る。\n",
    "\n",
    "plot(times, results, label=\"Numerical\", xlabel=\"time\")"
   ]
  },
  {
   "cell_type": "code",
   "execution_count": null,
   "metadata": {},
   "outputs": [],
   "source": [
    "times"
   ]
  },
  {
   "cell_type": "code",
   "execution_count": null,
   "metadata": {},
   "outputs": [],
   "source": [
    "collect(times)\n",
    "#collectで配列に直す。\n",
    "#Plotsは配列以外の値も受け取るので、今回の場合には問題ない。"
   ]
  },
  {
   "cell_type": "code",
   "execution_count": null,
   "metadata": {},
   "outputs": [],
   "source": [
    "exact_Nt(time) = K/(1+(K-N0) / N0 * exp(-r*time))"
   ]
  },
  {
   "cell_type": "code",
   "execution_count": null,
   "metadata": {},
   "outputs": [],
   "source": [
    "exact_Nt.(times)\n",
    "#exact_Ntは配列を受け取るようには設定されていないが、要素ごとに勝手にまとめてくれる。"
   ]
  },
  {
   "cell_type": "code",
   "execution_count": null,
   "metadata": {},
   "outputs": [],
   "source": [
    "err = abs.(result .- exact_Nt.(times))\n",
    "#Floatの配列のたいしてabsは対応していないので、.をつける。\n",
    "\n",
    "p = plot(yaxis=:log, ylims=(1e-10, 1000),  xlabel=\"time\")\n",
    "#pはplotのobjectである。そこにpplot!を2つ追加している。\n",
    "plot!(p, times, results, label=\"Numerical\")\n",
    "plot!(p, times, abs.(results .- exact_Nt.(times)), marker=:x, label=\"Error\")"
   ]
  },
  {
   "attachments": {},
   "cell_type": "markdown",
   "metadata": {},
   "source": [
    "グラフで凹んでいる部分があるのは、errの符号が反転しているから。"
   ]
  },
  {
   "cell_type": "code",
   "execution_count": null,
   "metadata": {},
   "outputs": [],
   "source": [
    ":x\n",
    "#シンボルオブジェクト"
   ]
  },
  {
   "cell_type": "code",
   "execution_count": null,
   "metadata": {},
   "outputs": [],
   "source": [
    "typeof(:x)"
   ]
  },
  {
   "cell_type": "code",
   "execution_count": null,
   "metadata": {},
   "outputs": [],
   "source": [
    "a = \"x\"\n",
    "b = \"x\"\n",
    "#メモリ上にはxという値を持ったものが2つある?"
   ]
  },
  {
   "cell_type": "code",
   "execution_count": null,
   "metadata": {},
   "outputs": [],
   "source": [
    "objectid(a)"
   ]
  },
  {
   "cell_type": "code",
   "execution_count": null,
   "metadata": {},
   "outputs": [],
   "source": [
    "objectid(b)"
   ]
  },
  {
   "cell_type": "code",
   "execution_count": null,
   "metadata": {},
   "outputs": [],
   "source": [
    "using DifferentialEquations\n",
    "\n",
    "# ロジスティック方程式の定義\n",
    "function logistic!(du, u, params, t)\n",
    "    r, K = params\n",
    "    du[1] = r * u[1] * (1 - u[1]/K)\n",
    "end\n",
    "\n",
    "# パラメータの設定\n",
    "params = (r, K)\n",
    "\n",
    "# 初期条件の設定\n",
    "u0 = [1.0]  # 開始時点の人口サイズ\n",
    "\n",
    "# 時間範囲の設定\n",
    "tspan = (0.0, tmax)\n",
    "\n",
    "# 問題の設定\n",
    "prob = ODEProblem(logistic!, u0, tspan, params)\n",
    "\n",
    "# 微分方程式の解 (5次のルンゲクッタ法)\n",
    "sol = solve(prob, Tsit5(), abstol=1e-8, reltol=1e-8)\n",
    ";"
   ]
  },
  {
   "attachments": {},
   "cell_type": "markdown",
   "metadata": {},
   "source": []
  },
  {
   "attachments": {},
   "cell_type": "markdown",
   "metadata": {},
   "source": [
    "sol = solve(解きたい問題, solver, 絶対誤差, 相対誤差)"
   ]
  },
  {
   "cell_type": "code",
   "execution_count": null,
   "metadata": {},
   "outputs": [],
   "source": [
    "sol.t"
   ]
  },
  {
   "cell_type": "code",
   "execution_count": null,
   "metadata": {},
   "outputs": [],
   "source": [
    "sol.u\n",
    "#配列の配列、sol.u[1]とすると1つ目の配列を取り出せる。"
   ]
  },
  {
   "cell_type": "code",
   "execution_count": null,
   "metadata": {},
   "outputs": [],
   "source": [
    "sol.u[1]"
   ]
  },
  {
   "cell_type": "code",
   "execution_count": null,
   "metadata": {},
   "outputs": [],
   "source": [
    "# 解のプロット\n",
    "\n",
    "results_de = [u_[1] for u_ in sol.u]\n",
    "#sol.uの各要素の1つ目を取り出して配列にする。\n",
    "\n",
    "\n",
    "p = plot(yaxis=:log, ylims=(1e-10, 1000),  xlabel=\"time\")\n",
    "plot!(p, sol.t, results_de, marker=:o)\n",
    "plot!(p, sol.t, abs.(results_de .- exact_Nt.(sol.t)), label=\"error\")"
   ]
  },
  {
   "attachments": {},
   "cell_type": "markdown",
   "metadata": {},
   "source": [
    "中間課題(来週の講義終了時まで)\n",
    "logistic.ipynbとproject.tomlをgitにpushする。\n",
    "#manifest.tomlは基本的に環境によるので、gitにpushしない。\n",
    "出力を含めたままgitにpushするのはどうなのか？(環境によって出力される変数も変わってくる)\n",
    "→その場合は「全ての出力をクリア」してからpushすれば良い。"
   ]
  }
 ],
 "metadata": {
  "kernelspec": {
   "display_name": "Julia 1.9.0",
   "language": "julia",
   "name": "julia-1.9"
  },
  "language_info": {
   "file_extension": ".jl",
   "mimetype": "application/julia",
   "name": "julia",
   "version": "1.9.0"
  },
  "orig_nbformat": 4
 },
 "nbformat": 4,
 "nbformat_minor": 2
}
